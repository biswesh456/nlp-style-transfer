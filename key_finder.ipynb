{
 "cells": [
  {
   "cell_type": "code",
   "execution_count": 1,
   "metadata": {},
   "outputs": [],
   "source": [
    "from transformers import pipeline, AutoModelForTokenClassification, AutoTokenizer\n",
    "from nltk.corpus import stopwords\n",
    "import pickle \n",
    "import math"
   ]
  },
  {
   "cell_type": "code",
   "execution_count": 2,
   "metadata": {},
   "outputs": [
    {
     "name": "stderr",
     "output_type": "stream",
     "text": [
      "Some weights of RobertaForMaskedLM were not initialized from the model checkpoint at distilroberta-base and are newly initialized: ['lm_head.decoder.bias']\n",
      "You should probably TRAIN this model on a down-stream task to be able to use it for predictions and inference.\n"
     ]
    }
   ],
   "source": [
    "mask = pipeline('fill-mask')"
   ]
  },
  {
   "cell_type": "code",
   "execution_count": 7,
   "metadata": {},
   "outputs": [],
   "source": [
    "sentiment_model = pipeline('sentiment-analysis')"
   ]
  },
  {
   "cell_type": "code",
   "execution_count": 3,
   "metadata": {},
   "outputs": [],
   "source": [
    "def idx2str(s):\n",
    "    return ' '.join([id2w[idx] for idx in s])\n",
    "\n",
    "def str2idx(idx):\n",
    "    idx = idx.strip()\n",
    "    return [w2id[idxx] for idxx in idx.split()]"
   ]
  },
  {
   "cell_type": "code",
   "execution_count": 4,
   "metadata": {},
   "outputs": [],
   "source": [
    "Y_train, C_train = pickle.load(open('AEGS_data/amazon/XC_train.pkl','rb'))\n",
    "Y_dev, C_dev = pickle.load(open('AEGS_data/amazon/XC_dev.pkl','rb'))\n",
    "Y_test, C_test = pickle.load(open('AEGS_data/amazon/XC_test.pkl','rb'))\n",
    "\n",
    "with open('AEGS_data/amazon/w2id_id2w.pkl', 'rb') as f:\n",
    "    w2id, id2w = pickle.load(f)"
   ]
  },
  {
   "cell_type": "code",
   "execution_count": 5,
   "metadata": {},
   "outputs": [
    {
     "name": "stdout",
     "output_type": "stream",
     "text": [
      "they are thinner and retain memory than the older ones . <EOS> they are thinner and retain memory than the older ones .\n"
     ]
    }
   ],
   "source": [
    "original, reference, original_noun, reference_noun = pickle.load(open('AEGS_data/amazon/original_reference_and_noun.pkl','rb'))\n",
    "C_original = [[1, 0] for i in range(500)] + [[0, 1] for i in range(500)]\n",
    "\n",
    "X_train = [x[:-1] for x in Y_train]\n",
    "X_dev = [x[:-1] for x in Y_dev]\n",
    "X_test = [x[:-1] for x in Y_test]\n",
    "print(idx2str(Y_test[1]), idx2str(X_test[1]))"
   ]
  },
  {
   "cell_type": "code",
   "execution_count": 12,
   "metadata": {},
   "outputs": [
    {
     "data": {
      "text/plain": [
       "('shame on what otherwise has been a reliable company with several other <UNK> products .',\n",
       " 'these fit so well with what has been a reliable company with several other <UNK> products .',\n",
       " [('shame', 'NN'),\n",
       "  ('otherwise', 'NN'),\n",
       "  ('company', 'NN'),\n",
       "  ('products', 'NNS')],\n",
       " [('company', 'NN'), ('products', 'NNS')])"
      ]
     },
     "execution_count": 12,
     "metadata": {},
     "output_type": "execute_result"
    }
   ],
   "source": [
    "i=1\n",
    "idx2str(original[i]), idx2str(reference[i]), original_noun[i], reference_noun[i]"
   ]
  },
  {
   "cell_type": "code",
   "execution_count": 13,
   "metadata": {},
   "outputs": [],
   "source": [
    "# sentence = \"I am going to guess everything in this sentence\"\n",
    "sentence = idx2str(reference[i]).replace(' <UNK> ', ' ').replace('.', '').replace(' i ', '  I ')\n",
    "sentence_split = sentence.split()\n",
    "stop_words = set(stopwords.words('english'))\n",
    "keywords = [w for w in sentence_split if not w in stop_words]"
   ]
  },
  {
   "cell_type": "code",
   "execution_count": 14,
   "metadata": {},
   "outputs": [
    {
     "name": "stdout",
     "output_type": "stream",
     "text": [
      "[{'label': 'POSITIVE', 'score': 0.9994624853134155}]\n",
      "[{'label': 'POSITIVE', 'score': 0.9989681243896484}]\n",
      "[{'label': 'POSITIVE', 'score': 0.9990249276161194}]\n",
      "0.9991846084594727 0.9991518457730612 fit\n",
      "[{'label': 'POSITIVE', 'score': 0.9987897276878357}]\n",
      "[{'label': 'POSITIVE', 'score': 0.9897065162658691}]\n",
      "[{'label': 'POSITIVE', 'score': 0.9886536002159119}]\n",
      "0.9991846084594727 0.9923832813898722 well\n",
      "[{'label': 'POSITIVE', 'score': 0.9998316764831543}]\n",
      "[{'label': 'POSITIVE', 'score': 0.9886431097984314}]\n",
      "[{'label': 'POSITIVE', 'score': 0.9992959499359131}]\n",
      "0.9991846084594727 0.9959235787391663 reliable\n",
      "[{'label': 'POSITIVE', 'score': 0.9971632361412048}]\n",
      "[{'label': 'POSITIVE', 'score': 0.9975175857543945}]\n",
      "[{'label': 'POSITIVE', 'score': 0.9989576935768127}]\n",
      "0.9991846084594727 0.9978795051574707 company\n",
      "[{'label': 'POSITIVE', 'score': 0.9988303780555725}]\n",
      "[{'label': 'POSITIVE', 'score': 0.9979692697525024}]\n",
      "[{'label': 'POSITIVE', 'score': 0.9976409077644348}]\n",
      "0.9991846084594727 0.9981468518575033 several\n",
      "[{'label': 'POSITIVE', 'score': 0.9989128708839417}]\n",
      "[{'label': 'POSITIVE', 'score': 0.9990239143371582}]\n",
      "[{'label': 'POSITIVE', 'score': 0.9986209869384766}]\n",
      "0.9991846084594727 0.9988525907198588 products\n"
     ]
    }
   ],
   "source": [
    "alpha = [0.001, 0.003, 0.005, 0.01, 0.03, 0.05, 0.1]\n",
    "final_keys = {}\n",
    "for a in alpha:\n",
    "    final_keys[a] = []\n",
    "orig_sent = sentiment_model(sentence)[0]\n",
    "orig_score = 0 \n",
    "if orig_sent['label'] == \"NEGATIVE\":\n",
    "    orig_score -= orig_sent['score']\n",
    "else:\n",
    "    orig_score += orig_sent['score']\n",
    "    \n",
    "for key in keywords:\n",
    "    s = sentence.replace(key, '<mask>')\n",
    "    candidates = mask(s, top_k=20)\n",
    "#     print(candidates[15]['sequence'], candidates[17]['sequence'], candidates[19]['sequence'])\n",
    "    cand1 = sentiment_model(candidates[15]['sequence'])\n",
    "    cand2 = sentiment_model(candidates[17]['sequence'])\n",
    "    cand3 = sentiment_model(candidates[19]['sequence'])\n",
    "    cand_score = 0\n",
    "    for cand in [cand1, cand2, cand3]:\n",
    "        print(cand)\n",
    "        if cand[0]['label'] == 'NEGATIVE':\n",
    "            cand_score -= cand[0]['score']\n",
    "        else:\n",
    "            cand_score += cand[0]['score']\n",
    "    \n",
    "    cand_score /= 3\n",
    "    print(orig_score, cand_score, key)\n",
    "    for a in alpha:\n",
    "        if abs(orig_score - cand_score) <= a:\n",
    "            final_keys[a].append(key)  "
   ]
  },
  {
   "cell_type": "code",
   "execution_count": 15,
   "metadata": {},
   "outputs": [
    {
     "data": {
      "text/plain": [
       "{0.001: ['fit', 'products'],\n",
       " 0.003: ['fit', 'company', 'several', 'products'],\n",
       " 0.005: ['fit', 'reliable', 'company', 'several', 'products'],\n",
       " 0.01: ['fit', 'well', 'reliable', 'company', 'several', 'products'],\n",
       " 0.03: ['fit', 'well', 'reliable', 'company', 'several', 'products'],\n",
       " 0.05: ['fit', 'well', 'reliable', 'company', 'several', 'products'],\n",
       " 0.1: ['fit', 'well', 'reliable', 'company', 'several', 'products']}"
      ]
     },
     "execution_count": 15,
     "metadata": {},
     "output_type": "execute_result"
    }
   ],
   "source": [
    "final_keys"
   ]
  },
  {
   "cell_type": "code",
   "execution_count": 16,
   "metadata": {},
   "outputs": [
    {
     "data": {
      "text/plain": [
       "['fit', 'well', 'reliable', 'company', 'several', 'products']"
      ]
     },
     "execution_count": 16,
     "metadata": {},
     "output_type": "execute_result"
    }
   ],
   "source": [
    "keywords "
   ]
  },
  {
   "cell_type": "code",
   "execution_count": null,
   "metadata": {},
   "outputs": [],
   "source": []
  }
 ],
 "metadata": {
  "kernelspec": {
   "display_name": "Python 3",
   "language": "python",
   "name": "python3"
  },
  "language_info": {
   "codemirror_mode": {
    "name": "ipython",
    "version": 3
   },
   "file_extension": ".py",
   "mimetype": "text/x-python",
   "name": "python",
   "nbconvert_exporter": "python",
   "pygments_lexer": "ipython3",
   "version": "3.8.3"
  }
 },
 "nbformat": 4,
 "nbformat_minor": 4
}
